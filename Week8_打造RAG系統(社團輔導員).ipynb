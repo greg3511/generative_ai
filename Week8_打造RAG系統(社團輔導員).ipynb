{
  "nbformat": 4,
  "nbformat_minor": 0,
  "metadata": {
    "colab": {
      "provenance": [],
      "include_colab_link": true
    },
    "kernelspec": {
      "name": "python3",
      "display_name": "Python 3"
    },
    "language_info": {
      "name": "python"
    }
  },
  "cells": [
    {
      "cell_type": "markdown",
      "metadata": {
        "id": "view-in-github",
        "colab_type": "text"
      },
      "source": [
        "<a href=\"https://colab.research.google.com/github/greg3511/generative_ai/blob/main/Week8_%E6%89%93%E9%80%A0RAG%E7%B3%BB%E7%B5%B1(%E7%A4%BE%E5%9C%98%E8%BC%94%E5%B0%8E%E5%93%A1).ipynb\" target=\"_parent\"><img src=\"https://colab.research.google.com/assets/colab-badge.svg\" alt=\"Open In Colab\"/></a>"
      ]
    },
    {
      "cell_type": "code",
      "source": [
        "# prompt: 從https://drive.google.com/uc?export=download&id=1ZedxYrv9XGKzFHpeLTum31WL7R_RdAJ6下載檔案，並命名為faiss_db.zip\n",
        "\n",
        "!wget --no-check-certificate 'https://drive.google.com/uc?export=download&id=1ZedxYrv9XGKzFHpeLTum31WL7R_RdAJ6' -O faiss_db.zip\n"
      ],
      "metadata": {
        "id": "HlKYr6wLdR_6"
      },
      "execution_count": null,
      "outputs": []
    },
    {
      "cell_type": "code",
      "source": [
        "!unzip faiss_db.zip"
      ],
      "metadata": {
        "colab": {
          "base_uri": "https://localhost:8080/"
        },
        "id": "rhPQD5g0_l5Z",
        "outputId": "09c6b2ef-ee36-4928-87ee-bc32e9a85fb1"
      },
      "execution_count": null,
      "outputs": [
        {
          "output_type": "stream",
          "name": "stdout",
          "text": [
            "Archive:  faiss_db.zip\n",
            "   creating: faiss_db/\n",
            "  inflating: faiss_db/index.pkl      \n",
            "  inflating: faiss_db/index.faiss    \n"
          ]
        }
      ]
    },
    {
      "cell_type": "markdown",
      "source": [
        "### 1. 安裝並引入必要套件"
      ],
      "metadata": {
        "id": "Cc-facvpBkIi"
      }
    },
    {
      "cell_type": "code",
      "source": [
        "!pip install -U langchain langchain-community sentence-transformers faiss-cpu gradio openai"
      ],
      "metadata": {
        "id": "9JThdfm-CVZZ"
      },
      "execution_count": null,
      "outputs": []
    },
    {
      "cell_type": "code",
      "source": [
        "from langchain_community.vectorstores import FAISS\n",
        "from langchain_community.embeddings import HuggingFaceEmbeddings\n",
        "from langchain.chat_models import ChatOpenAI\n",
        "from langchain.chains import ConversationalRetrievalChain"
      ],
      "metadata": {
        "id": "L1zqb7F8BMP3"
      },
      "execution_count": null,
      "outputs": []
    },
    {
      "cell_type": "code",
      "source": [
        "from openai import OpenAI\n",
        "import gradio as gr"
      ],
      "metadata": {
        "id": "PTx3Q75QBp_J"
      },
      "execution_count": null,
      "outputs": []
    },
    {
      "cell_type": "markdown",
      "source": [
        "### 2. 自訂 E5 embedding 類別"
      ],
      "metadata": {
        "id": "z13eoo6uCnTT"
      }
    },
    {
      "cell_type": "code",
      "source": [
        "class CustomE5Embedding(HuggingFaceEmbeddings):\n",
        "    def embed_documents(self, texts):\n",
        "        texts = [f\"passage: {t}\" for t in texts]\n",
        "        return super().embed_documents(texts)\n",
        "\n",
        "    def embed_query(self, text):\n",
        "        return super().embed_query(f\"query: {text}\")"
      ],
      "metadata": {
        "id": "HkmvGTaECfTY"
      },
      "execution_count": null,
      "outputs": []
    },
    {
      "cell_type": "markdown",
      "source": [
        "### 3. 載入 `faiss_db`"
      ],
      "metadata": {
        "id": "NkXNMQs5RbNG"
      }
    },
    {
      "cell_type": "code",
      "source": [
        "embedding_model = CustomE5Embedding(model_name=\"intfloat/multilingual-e5-small\")\n",
        "db = FAISS.load_local(\"faiss_db\", embedding_model, allow_dangerous_deserialization=True)\n",
        "retriever = db.as_retriever()"
      ],
      "metadata": {
        "id": "LkELACdWCtpo"
      },
      "execution_count": null,
      "outputs": []
    },
    {
      "cell_type": "markdown",
      "source": [
        "### 4. 設定好我們要的 LLM"
      ],
      "metadata": {
        "id": "GrHSAsjcRkXF"
      }
    },
    {
      "cell_type": "code",
      "source": [
        "import os\n",
        "from google.colab import userdata"
      ],
      "metadata": {
        "id": "qefbHOaUDUvR"
      },
      "execution_count": null,
      "outputs": []
    },
    {
      "cell_type": "markdown",
      "source": [
        "如之前, 我們會用 OpenAI API。這裡使用 Groq 服務, 可改成你要的服務。"
      ],
      "metadata": {
        "id": "WWgbNGakRwrp"
      }
    },
    {
      "cell_type": "code",
      "source": [
        "api_key = userdata.get('Groq')"
      ],
      "metadata": {
        "id": "Xefdy-lkRtAL"
      },
      "execution_count": null,
      "outputs": []
    },
    {
      "cell_type": "code",
      "source": [
        "os.environ[\"OPENAI_API_KEY\"] = api_key"
      ],
      "metadata": {
        "id": "K7UiOKuTDD5F"
      },
      "execution_count": null,
      "outputs": []
    },
    {
      "cell_type": "markdown",
      "source": [
        "這裡的模型和 `base_url` 是用 Groq, 如果用其他服務請自行修改。"
      ],
      "metadata": {
        "id": "654I7y52R8yO"
      }
    },
    {
      "cell_type": "code",
      "source": [
        "model = \"llama3-70b-8192\"\n",
        "base_url=\"https://api.groq.com/openai/v1\""
      ],
      "metadata": {
        "id": "sqWfH90JFFWV"
      },
      "execution_count": null,
      "outputs": []
    },
    {
      "cell_type": "code",
      "source": [
        "client = OpenAI(\n",
        "    base_url=base_url # 使用 OpenAI 本身不需要這段\n",
        ")"
      ],
      "metadata": {
        "id": "JnqlH0W9P2-Q"
      },
      "execution_count": null,
      "outputs": []
    },
    {
      "cell_type": "markdown",
      "source": [
        "### 5. `prompt` 設計"
      ],
      "metadata": {
        "id": "K0egxeawSR41"
      }
    },
    {
      "cell_type": "code",
      "source": [
        "system_prompt = \"你是台灣的一個大學社團輔導員，專門為學生介紹與推薦適合的社團\"\n",
        "\n",
        "prompt_template = \"\"\"\n",
        "你是台灣某大學的社團輔導員，負責協助學生了解各個社團的特色與適合程度。\n",
        "\n",
        "請根據以下資料來回答同學的問題：\n",
        "{retrieved_chunks}\n",
        "\n",
        "同學的提問是：\n",
        "{question}\n",
        "\n",
        "請根據提供的資料回答，如果資料中沒有明確提到相關內容，請引導同學洽詢學務處課外活動組的老師協助。\n",
        "回答時語氣親切自然，像是在跟學生聊天。(不要使用表情符號)\n",
        "\"\"\""
      ],
      "metadata": {
        "id": "ZaUnqDpfFop-"
      },
      "execution_count": null,
      "outputs": []
    },
    {
      "cell_type": "markdown",
      "source": [
        "### 6. 使用 RAG 來回應\n",
        "\n",
        "搜尋與使用者問題相關的資訊，根據我們的 prompt 樣版去讓 LLM 回應。"
      ],
      "metadata": {
        "id": "qw8azlVESghL"
      }
    },
    {
      "cell_type": "code",
      "source": [
        "chat_history = []\n",
        "\n",
        "def chat_with_rag(user_input):\n",
        "    global chat_history\n",
        "    # 取回相關資料\n",
        "    docs = retriever.get_relevant_documents(user_input)\n",
        "    retrieved_chunks = \"\\n\\n\".join([doc.page_content for doc in docs])\n",
        "\n",
        "    # 將自定 prompt 套入格式\n",
        "    final_prompt = prompt_template.format(retrieved_chunks=retrieved_chunks, question=user_input)\n",
        "\n",
        "    # 呼叫 OpenAI API\n",
        "    response = client.chat.completions.create(\n",
        "    model=model,\n",
        "    messages=[\n",
        "        {\"role\": \"system\", \"content\": system_prompt},\n",
        "        {\"role\": \"user\", \"content\": final_prompt},\n",
        "    ]\n",
        "    )\n",
        "    answer = response.choices[0].message.content\n",
        "\n",
        "    chat_history.append((user_input, answer))\n",
        "    return answer"
      ],
      "metadata": {
        "id": "pWfDUb3mD-6X"
      },
      "execution_count": null,
      "outputs": []
    },
    {
      "cell_type": "markdown",
      "source": [
        "### 7. 用 Gradio 打造 Web App"
      ],
      "metadata": {
        "id": "5m7E7XmgTJUr"
      }
    },
    {
      "cell_type": "code",
      "source": [
        "with gr.Blocks() as demo:\n",
        "    gr.Markdown(\"# 🎓 AI 社團輔導員\")\n",
        "    chatbot = gr.Chatbot()\n",
        "    msg = gr.Textbox(placeholder=\"請輸入你的問題...\")\n",
        "\n",
        "    def respond(message, chat_history_local):\n",
        "        response = chat_with_rag(message)\n",
        "        chat_history_local.append((message, response))\n",
        "        return \"\", chat_history_local\n",
        "\n",
        "    msg.submit(respond, [msg, chatbot], [msg, chatbot])\n",
        "\n",
        "demo.launch(debug=True)"
      ],
      "metadata": {
        "id": "YI5swv4AFa_U"
      },
      "execution_count": null,
      "outputs": []
    },
    {
      "cell_type": "code",
      "source": [],
      "metadata": {
        "id": "Tvhd9jYKFeGR"
      },
      "execution_count": null,
      "outputs": []
    }
  ]
}