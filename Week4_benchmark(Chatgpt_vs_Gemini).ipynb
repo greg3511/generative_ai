{
  "nbformat": 4,
  "nbformat_minor": 0,
  "metadata": {
    "colab": {
      "provenance": [],
      "authorship_tag": "ABX9TyPdrqWo+CnH+RQWXRGfrwcO",
      "include_colab_link": true
    },
    "kernelspec": {
      "name": "python3",
      "display_name": "Python 3"
    },
    "language_info": {
      "name": "python"
    }
  },
  "cells": [
    {
      "cell_type": "markdown",
      "metadata": {
        "id": "view-in-github",
        "colab_type": "text"
      },
      "source": [
        "<a href=\"https://colab.research.google.com/github/greg3511/generative_ai/blob/main/Week4_benchmark(Chatgpt_vs_Gemini).ipynb\" target=\"_parent\"><img src=\"https://colab.research.google.com/assets/colab-badge.svg\" alt=\"Open In Colab\"/></a>"
      ]
    },
    {
      "cell_type": "markdown",
      "source": [
        "題目:\n",
        "幫我寫一個python程式，條件如下:\n",
        "\n",
        "1.有兩個可以手動調整的參數:紅球、黑球\n",
        "\n",
        "2.每次執行程式隨機從所有球中一次取出三顆球，紀錄三顆球的顏色，重複1000次\n",
        "\n",
        "3.統計100次取出的顏色組合中，各種顏色組合各佔幾次"
      ],
      "metadata": {
        "id": "KucMo5mabf9N"
      }
    },
    {
      "cell_type": "code",
      "execution_count": 12,
      "metadata": {
        "colab": {
          "base_uri": "https://localhost:8080/"
        },
        "id": "BCyYE0nAaq6F",
        "outputId": "14c34b6a-57a1-48db-8892-733e577384e3"
      },
      "outputs": [
        {
          "output_type": "stream",
          "name": "stdout",
          "text": [
            "('Black', 'Red', 'Red'): 378 times\n",
            "('Black', 'Black', 'Red'): 374 times\n",
            "('Black', 'Black', 'Black'): 119 times\n",
            "('Red', 'Red', 'Red'): 129 times\n"
          ]
        }
      ],
      "source": [
        "#Chatgpt\n",
        "import random\n",
        "from collections import Counter\n",
        "\n",
        "def draw_balls(red, black, trials=1000):\n",
        "    balls = ['Red'] * red + ['Black'] * black  # 建立球的清單\n",
        "    results = []\n",
        "\n",
        "    for _ in range(trials):\n",
        "        draw = tuple(sorted(random.choices(balls, k=3)))  # 隨機抽取三顆並排序，確保組合一致性\n",
        "        results.append(draw)\n",
        "\n",
        "    stats = Counter(results)  # 統計各種組合出現次數\n",
        "\n",
        "    return stats\n",
        "\n",
        "# 可手動調整紅球與黑球的數量\n",
        "red_balls = 100  # 可調整\n",
        "black_balls = 100  # 可調整\n",
        "\n",
        "stats = draw_balls(red_balls, black_balls)\n",
        "\n",
        "# 輸出統計結果\n",
        "for combo, count in stats.items():\n",
        "    print(f\"{combo}: {count} times\")\n"
      ]
    },
    {
      "cell_type": "code",
      "source": [
        "#Gemini\n",
        "import random\n",
        "\n",
        "def simulate_ball_draw(red_balls, black_balls, num_draws=1000):\n",
        "    \"\"\"\n",
        "    模擬從紅球和黑球中隨機抽取三次球的過程，並統計顏色組合。\n",
        "\n",
        "    Args:\n",
        "        red_balls (int): 紅球的數量。\n",
        "        black_balls (int): 黑球的數量。\n",
        "        num_draws (int): 模擬抽取的次數。\n",
        "\n",
        "    Returns:\n",
        "        dict: 顏色組合及其出現次數的字典。\n",
        "    \"\"\"\n",
        "\n",
        "    results = {}\n",
        "    all_balls = ['red'] * red_balls + ['black'] * black_balls\n",
        "\n",
        "    for _ in range(num_draws):\n",
        "        drawn_balls = random.sample(all_balls, 3)\n",
        "        drawn_balls.sort()  # 將顏色排序，以確保相同組合的計數一致\n",
        "        drawn_balls_tuple = tuple(drawn_balls)  # 將列表轉換為元組，因為字典的鍵必須是不可變的\n",
        "\n",
        "        if drawn_balls_tuple in results:\n",
        "            results[drawn_balls_tuple] += 1\n",
        "        else:\n",
        "            results[drawn_balls_tuple] = 1\n",
        "\n",
        "    return results\n",
        "\n",
        "if __name__ == \"__main__\":\n",
        "    # 手動調整紅球和黑球的數量\n",
        "    red_balls = 100\n",
        "    black_balls = 100\n",
        "\n",
        "    results = simulate_ball_draw(red_balls, black_balls)\n",
        "\n",
        "    # 輸出結果\n",
        "    for combination, count in results.items():\n",
        "        print(f\"顏色組合：{combination}，出現次數：{count}\")"
      ],
      "metadata": {
        "colab": {
          "base_uri": "https://localhost:8080/"
        },
        "id": "wRLlGc9NbEeS",
        "outputId": "3feb9cda-8092-4a6d-9712-dcb77803737c"
      },
      "execution_count": 11,
      "outputs": [
        {
          "output_type": "stream",
          "name": "stdout",
          "text": [
            "顏色組合：('black', 'red', 'red')，出現次數：396\n",
            "顏色組合：('red', 'red', 'red')，出現次數：113\n",
            "顏色組合：('black', 'black', 'black')，出現次數：134\n",
            "顏色組合：('black', 'black', 'red')，出現次數：357\n"
          ]
        }
      ]
    },
    {
      "cell_type": "markdown",
      "source": [
        "兩個程式的執行都沒有問題\n",
        "\n",
        "但有些差異之處:\n",
        "\n",
        "1.取球方式\n",
        "\n",
        "Chatgpt取球的方式是[random.choices]這有可能會取到重複的球\n",
        "\n",
        "而Gemini則是使用[random.sample]這種取球方式不會取到同樣的球，比較符合現實情況。\n",
        "\n",
        "2.儲存資料方式\n",
        "\n",
        "Chatgpt使用list來儲存資料，每次重抽時都把結果append進list中，若抽取次數擴大，會讓記憶體使用量變大，因為需要一次儲存大量數據\n",
        "\n",
        "而Gemini使用dict(字典)來儲存，在抽取過程中即時計數，因此記憶體用量較少。\n",
        "\n",
        "3.註解\n",
        "\n",
        "Chatgpt的註解較簡潔，而Gemini的註解較為完整。\n",
        "\n",
        "4.執行方式\n",
        "\n",
        "Gemini的程式有if __name__ == \"__main__\": 這表示若該程式被當作模組import時，不會主動執行抽球程式與輸出結果，比較符合實際使用Python開發時的情況。\n",
        "\n"
      ],
      "metadata": {
        "id": "2ASdfvaHbvyR"
      }
    }
  ]
}